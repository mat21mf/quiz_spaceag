{
 "cells": [
  {
   "cell_type": "code",
   "execution_count": 2,
   "metadata": {},
   "outputs": [],
   "source": [
    "import pandas as pd\n",
    "import numpy as np\n",
    "import geopandas as gpd\n",
    "import rasterio as rio\n",
    "from rasterio.plot import show\n",
    "from rasterio.mask import mask\n",
    "import matplotlib.pyplot as plt"
   ]
  },
  {
   "cell_type": "code",
   "execution_count": 2,
   "metadata": {},
   "outputs": [],
   "source": [
    "%run -i 'cargar_imagenes.py'"
   ]
  },
  {
   "cell_type": "code",
   "execution_count": 4,
   "metadata": {},
   "outputs": [
    {
     "data": {
      "text/html": [
       "<div>\n",
       "<style scoped>\n",
       "    .dataframe tbody tr th:only-of-type {\n",
       "        vertical-align: middle;\n",
       "    }\n",
       "\n",
       "    .dataframe tbody tr th {\n",
       "        vertical-align: top;\n",
       "    }\n",
       "\n",
       "    .dataframe thead th {\n",
       "        text-align: right;\n",
       "    }\n",
       "</style>\n",
       "<table border=\"1\" class=\"dataframe\">\n",
       "  <thead>\n",
       "    <tr style=\"text-align: right;\">\n",
       "      <th></th>\n",
       "      <th>ID</th>\n",
       "      <th>yield</th>\n",
       "      <th>area</th>\n",
       "      <th>geometry</th>\n",
       "    </tr>\n",
       "  </thead>\n",
       "  <tbody>\n",
       "    <tr>\n",
       "      <th>0</th>\n",
       "      <td>01</td>\n",
       "      <td>3581.158766439885</td>\n",
       "      <td>6.53060080697</td>\n",
       "      <td>POLYGON ((430981.645 8430093.025, 430695.042 8...</td>\n",
       "    </tr>\n",
       "    <tr>\n",
       "      <th>1</th>\n",
       "      <td>02</td>\n",
       "      <td>4037.3751791811173</td>\n",
       "      <td>6.55506911185</td>\n",
       "      <td>POLYGON ((430695.042 8429989.655, 430407.495 8...</td>\n",
       "    </tr>\n",
       "    <tr>\n",
       "      <th>2</th>\n",
       "      <td>03</td>\n",
       "      <td>4658.420440484501</td>\n",
       "      <td>6.53325350488</td>\n",
       "      <td>POLYGON ((431054.345 8429891.269, 430767.575 8...</td>\n",
       "    </tr>\n",
       "    <tr>\n",
       "      <th>3</th>\n",
       "      <td>04</td>\n",
       "      <td>4196.272165747293</td>\n",
       "      <td>6.55101295726</td>\n",
       "      <td>POLYGON ((430767.575 8429787.980, 430479.834 8...</td>\n",
       "    </tr>\n",
       "    <tr>\n",
       "      <th>4</th>\n",
       "      <td>05</td>\n",
       "      <td>4744.580970357842</td>\n",
       "      <td>6.53464591788</td>\n",
       "      <td>POLYGON ((430767.575 8429787.980, 431054.345 8...</td>\n",
       "    </tr>\n",
       "  </tbody>\n",
       "</table>\n",
       "</div>"
      ],
      "text/plain": [
       "   ID               yield           area  \\\n",
       "0  01   3581.158766439885  6.53060080697   \n",
       "1  02  4037.3751791811173  6.55506911185   \n",
       "2  03   4658.420440484501  6.53325350488   \n",
       "3  04   4196.272165747293  6.55101295726   \n",
       "4  05   4744.580970357842  6.53464591788   \n",
       "\n",
       "                                            geometry  \n",
       "0  POLYGON ((430981.645 8430093.025, 430695.042 8...  \n",
       "1  POLYGON ((430695.042 8429989.655, 430407.495 8...  \n",
       "2  POLYGON ((431054.345 8429891.269, 430767.575 8...  \n",
       "3  POLYGON ((430767.575 8429787.980, 430479.834 8...  \n",
       "4  POLYGON ((430767.575 8429787.980, 431054.345 8...  "
      ]
     },
     "execution_count": 4,
     "metadata": {},
     "output_type": "execute_result"
    }
   ],
   "source": [
    "mapa = gpd.read_file(\"atributos_map.shp\")\n",
    "mapa = mapa[[\"ID\",\"yield\",\"area\",\"geometry\"]]\n",
    "mapa.head()"
   ]
  },
  {
   "cell_type": "code",
   "execution_count": null,
   "metadata": {},
   "outputs": [],
   "source": [
    "def derive_stats(geom, data=ndwi_raster, **mask_kw):\n",
    "    masked, mask_transform = mask(dataset=data, \n",
    "          shapes=geom,)crop=True, all_touched=True, filled=True)\n",
    "    return masked"
   ]
  },
  {
   "cell_type": "code",
   "execution_count": null,
   "metadata": {},
   "outputs": [],
   "source": []
  }
 ],
 "metadata": {
  "kernelspec": {
   "display_name": "Python 3",
   "language": "python",
   "name": "python3"
  },
  "language_info": {
   "codemirror_mode": {
    "name": "ipython",
    "version": 3
   },
   "file_extension": ".py",
   "mimetype": "text/x-python",
   "name": "python",
   "nbconvert_exporter": "python",
   "pygments_lexer": "ipython3",
   "version": "3.7.6"
  }
 },
 "nbformat": 4,
 "nbformat_minor": 4
}
